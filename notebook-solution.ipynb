{
 "cells": [
  {
   "cell_type": "markdown",
   "id": "d80a90aa-fd13-41c1-99fd-98b9ebe613b0",
   "metadata": {},
   "source": [
    "# Supervised Learning — How to do a linear regression in Python"
   ]
  },
  {
   "cell_type": "markdown",
   "id": "4c4a4d6c-879b-4cb0-a329-4254cc694b9d",
   "metadata": {},
   "source": [
    "## When can linear regression be used?"
   ]
  },
  {
   "cell_type": "markdown",
   "id": "76b16749-460b-4050-a59c-612527812045",
   "metadata": {},
   "source": [
    "- When the response variable (the one being predicted) is numeric and continuous.\n",
    "- When the observations are independent."
   ]
  },
  {
   "cell_type": "markdown",
   "id": "fa0ef3aa-33ea-43a3-a33c-b7f1d3e08bb6",
   "metadata": {},
   "source": [
    "## Which packages can be used for performing linear regression?"
   ]
  },
  {
   "cell_type": "markdown",
   "id": "4585bb51-0b64-4858-81ae-559ceb62c86c",
   "metadata": {},
   "source": [
    "- Scikit learn (used here)\n",
    "- statsmodels\n",
    "- PyCaret, Tensorflow, Keras, PyTorch"
   ]
  },
  {
   "cell_type": "markdown",
   "id": "f4034e78-9040-4760-9563-03042dbfab18",
   "metadata": {},
   "source": [
    "## Case study: predicting brain weights"
   ]
  },
  {
   "cell_type": "markdown",
   "id": "ef69e7f2-8551-4f0e-b743-fb50761e866d",
   "metadata": {},
   "source": [
    "Here we'll explore a classic dataset (Gladstone 1905) to predict people's brain weights based on the volume of their head. ([Data source](https://users.stat.ufl.edu/~winner/data/brainhead.dat) and its [description](https://users.stat.ufl.edu/~winner/data/brainhead.txt).)"
   ]
  },
  {
   "cell_type": "markdown",
   "id": "672eed9e-8eb7-4e7a-aa18-fc055b0ed0df",
   "metadata": {},
   "source": [
    "We'll need **pandas** for importing the data, and doing some manipulation. **scikit-learn** is used for modeling, and **plotly.express** is used for plotting."
   ]
  },
  {
   "cell_type": "code",
   "execution_count": null,
   "id": "e2bac5c4-17d1-4823-932c-a0924c8b4eff",
   "metadata": {},
   "outputs": [],
   "source": [
    "import pandas as pd\n",
    "from sklearn.model_selection import train_test_split\n",
    "from sklearn.linear_model import LinearRegression\n",
    "import plotly.express as px"
   ]
  },
  {
   "cell_type": "markdown",
   "id": "2667f910-2d2b-4ac3-ba4d-32c98ff65c8a",
   "metadata": {},
   "source": [
    "The dataset is imported from a CSV file."
   ]
  },
  {
   "cell_type": "code",
   "execution_count": null,
   "id": "11c34437-6ed5-431f-95b7-301804edf4c5",
   "metadata": {},
   "outputs": [],
   "source": [
    "brainhead = pd.read_csv(\"brainhead.csv\")\n",
    "brainhead"
   ]
  },
  {
   "cell_type": "markdown",
   "id": "8fddc032-a578-4875-92a0-c31e32ef7c6c",
   "metadata": {},
   "source": [
    "## Data dictionary"
   ]
  },
  {
   "cell_type": "markdown",
   "id": "cb1e6718-1165-4414-8e95-19c50a4e1ba1",
   "metadata": {},
   "source": [
    "Each row in the dataset corresponds to one adult human.\n",
    "\n",
    "- **gender**: Gender of the person. Either **male** or **female**.\n",
    "- **age_range**: Age range of the person. Either **20-46** or **46+**.\n",
    "- **head_size_cm3**: Volume of the person's head, in cm^3.\n",
    "- **brain_weight_g**: Mass of the person's brain, in grams."
   ]
  },
  {
   "cell_type": "markdown",
   "id": "d984a23c-c5f9-4c34-ab24-f84449efe607",
   "metadata": {},
   "source": [
    "## Converting categorical columns to dummy variables"
   ]
  },
  {
   "cell_type": "markdown",
   "id": "4f6ef273-87b6-45ad-afc7-0dd08950ce4a",
   "metadata": {},
   "source": [
    "Scikit-learn can't deal with categorical columns directly. They must be converted to dummy columns of ones and zeroes. The pandas function [`get_dummies()`](https://pandas.pydata.org/pandas-docs/stable/reference/api/pandas.get_dummies.html) can be used for this."
   ]
  },
  {
   "cell_type": "code",
   "execution_count": null,
   "id": "1f2092b9-218e-443b-9d10-740be62ad4f6",
   "metadata": {},
   "outputs": [],
   "source": [
    "brainhead_dum = pd.get_dummies(brainhead)\n",
    "brainhead_dum"
   ]
  },
  {
   "cell_type": "markdown",
   "id": "1bd635fb-db01-442d-8c9c-a60f330556db",
   "metadata": {},
   "source": [
    "## Splitting into response and explanatory columns"
   ]
  },
  {
   "cell_type": "markdown",
   "id": "47964dab-bb85-48e0-8f2e-b1b5a45ddf61",
   "metadata": {},
   "source": [
    "The dataset needs to be split into the response variable, and the explanatory variables (all other columns)."
   ]
  },
  {
   "cell_type": "code",
   "execution_count": null,
   "id": "20222f14-0757-4fc0-a10e-402ee69dd22c",
   "metadata": {},
   "outputs": [],
   "source": [
    "response = brainhead_dum[\"brain_weight_g\"]\n",
    "explanatory = brainhead_dum.drop(columns=\"brain_weight_g\")"
   ]
  },
  {
   "cell_type": "markdown",
   "id": "9d21a8de-1bcf-4a9a-89ab-16354d4b6788",
   "metadata": {},
   "source": [
    "## Splitting into training and testing sets"
   ]
  },
  {
   "cell_type": "markdown",
   "id": "d1f644c1-c4d5-43ea-ab7e-dbbd2c70d0bb",
   "metadata": {},
   "source": [
    "The explanatory and response datasets need to be split into training and testing sets. \n",
    "\n",
    "Here we'll use [`train_test_split()`](https://scikit-learn.org/stable/modules/generated/sklearn.model_selection.train_test_split.html) with the default arguments."
   ]
  },
  {
   "cell_type": "code",
   "execution_count": null,
   "id": "299d0313-50ec-41bd-9847-41a13f9868ed",
   "metadata": {},
   "outputs": [],
   "source": [
    "explanatory_train, explanatory_test, response_train, response_test = train_test_split(explanatory, response)"
   ]
  },
  {
   "cell_type": "markdown",
   "id": "d910f4f9-8fe1-45f6-91b4-70562e5ebcfc",
   "metadata": {},
   "source": [
    "## Fitting the model to the training set"
   ]
  },
  {
   "cell_type": "markdown",
   "id": "3640130c-6310-4e61-bd77-b69bc8908243",
   "metadata": {},
   "source": [
    "The data is now ready to model. The first modeling step is to create a [`LinearRegression`](https://scikit-learn.org/stable/modules/generated/sklearn.linear_model.LinearRegression.html) object."
   ]
  },
  {
   "cell_type": "code",
   "execution_count": null,
   "id": "2beab28d-7798-4e14-851f-135f6915aaa5",
   "metadata": {},
   "outputs": [],
   "source": [
    "mdl = LinearRegression()"
   ]
  },
  {
   "cell_type": "markdown",
   "id": "2ae6f6f9-0eb9-4887-88c7-8302562c0b36",
   "metadata": {},
   "source": [
    "Use the [`.fit()`](https://scikit-learn.org/stable/modules/generated/sklearn.linear_model.LinearRegression.html#sklearn.linear_model.LinearRegression.fit) method to fit the model to the training set."
   ]
  },
  {
   "cell_type": "code",
   "execution_count": null,
   "id": "b7bdd7ff-684d-420a-9314-0779b7a849f4",
   "metadata": {},
   "outputs": [],
   "source": [
    "mdl.fit(explanatory_train, response_train)"
   ]
  },
  {
   "cell_type": "markdown",
   "id": "97683b2b-b943-422c-b1ef-f9394b381da4",
   "metadata": {},
   "source": [
    "## Making predictions on the testing set"
   ]
  },
  {
   "cell_type": "markdown",
   "id": "fdd858b7-820f-4854-a69e-ffa0f824eac0",
   "metadata": {},
   "source": [
    "Now use the [`.predict()`](https://scikit-learn.org/stable/modules/generated/sklearn.linear_model.LinearRegression.html#sklearn.linear_model.LinearRegression.predict) method to make predictions on the testing set.\n",
    "\n",
    "It can be helpful to combine the actual responses and the predicted responses together in a dataframe."
   ]
  },
  {
   "cell_type": "code",
   "execution_count": null,
   "id": "abcc5f83-7a90-450f-b7f0-0aa794bba8c0",
   "metadata": {},
   "outputs": [],
   "source": [
    "responses = pd.DataFrame({\n",
    "    \"actual\": response_test,\n",
    "    \"predicted\": mdl.predict(explanatory_test)\n",
    "})"
   ]
  },
  {
   "cell_type": "markdown",
   "id": "1a959c36-7b14-4eee-aab7-4af9da800b92",
   "metadata": {},
   "source": [
    "One way to visualize the results is to draw a scatter plot of predicted responses versus actual responses.\n",
    "\n",
    "This plot is easier to understand if you have equal distances for the x and y coordinates."
   ]
  },
  {
   "cell_type": "code",
   "execution_count": null,
   "id": "cae8e59c-90f4-451c-93ed-24cb9968aa98",
   "metadata": {},
   "outputs": [],
   "source": [
    "fig = px.scatter(responses, x=\"actual\", y=\"predicted\", width=800, height=800)\n",
    "fig.update_yaxes(\n",
    "    scaleanchor = \"x\",\n",
    "    scaleratio = 1,\n",
    ")\n",
    "fig"
   ]
  },
  {
   "cell_type": "markdown",
   "id": "24a7f01c-af4d-417d-a166-ef4aa34ecdbd",
   "metadata": {},
   "source": [
    "## Understanding the model predictions"
   ]
  },
  {
   "cell_type": "markdown",
   "id": "204b41f2-912c-491c-bb44-c8ef521d72fc",
   "metadata": {},
   "source": [
    "Model predictions are calculated as an intercept, plus a coefficient for each input parameter.\n",
    "\n",
    "You can see the intercept with the `.intercept_` attribute."
   ]
  },
  {
   "cell_type": "code",
   "execution_count": null,
   "id": "809db578-bdfc-40ef-97a5-3842db6fb684",
   "metadata": {},
   "outputs": [],
   "source": [
    "mdl.intercept_"
   ]
  },
  {
   "cell_type": "markdown",
   "id": "038e150e-c1b8-4814-9b39-705352aa7861",
   "metadata": {},
   "source": [
    "The coefficients and their names are found with the `.coef_` and `.feature_names_in_` attributes."
   ]
  },
  {
   "cell_type": "code",
   "execution_count": null,
   "id": "1b1558ed-8bfa-4fe1-97b5-a3ac0f4e9a96",
   "metadata": {},
   "outputs": [],
   "source": [
    "mdl.coef_"
   ]
  },
  {
   "cell_type": "code",
   "execution_count": null,
   "id": "19c79eb6-a1fb-4c27-a8d2-0e6144fece95",
   "metadata": {},
   "outputs": [],
   "source": [
    "mdl.feature_names_in_"
   ]
  },
  {
   "cell_type": "markdown",
   "id": "2ed1dcfa-fe8f-4e96-9e4b-705515c237f1",
   "metadata": {},
   "source": [
    "To see how the prediction calculations work, let's consider an example of a female aged 46+ with a head size of 4000 cm^3."
   ]
  },
  {
   "cell_type": "code",
   "execution_count": null,
   "id": "38b9b21f-58e5-4938-be5c-ebdf5d99b415",
   "metadata": {},
   "outputs": [],
   "source": [
    "gender = \"female\"\n",
    "age_range = \"46+\"\n",
    "head_size_cm3 = 4000\n",
    "prediction = mdl.intercept_ + \\\n",
    "    mdl.coef_[mdl.feature_names_in_ == \"gender_female\"] + \\\n",
    "    mdl.coef_[mdl.feature_names_in_ == \"age_range_46+\"] + \\\n",
    "    head_size_cm3 * mdl.coef_[mdl.feature_names_in_ == \"head_size_cm3\"]\n",
    "f\"A {gender} aged {age_range} with a head size of {head_size_cm3} cm^3 would have a predicted brain weight of {prediction}.\""
   ]
  },
  {
   "cell_type": "markdown",
   "id": "33ccd78c-704a-4388-ac71-a0b4e7072461",
   "metadata": {},
   "source": [
    "## Checking model fit"
   ]
  },
  {
   "cell_type": "markdown",
   "id": "83f25ad2-ceb2-41ec-9d20-017e8b2e79eb",
   "metadata": {},
   "source": [
    "To assess whether the model was a good fit, it is useful to analyze the residuals, which are the actual respones minus the predicted responses."
   ]
  },
  {
   "cell_type": "code",
   "execution_count": null,
   "id": "82c137f1-d645-4343-b499-68ed467e9991",
   "metadata": {},
   "outputs": [],
   "source": [
    "responses[\"residual\"] = responses[\"actual\"] - responses[\"predicted\"]\n",
    "responses"
   ]
  },
  {
   "cell_type": "markdown",
   "id": "0637d012-d8b0-4bf7-9f11-6ad98a9d0d7d",
   "metadata": {},
   "source": [
    "Drawing a scatter plot of the residuals versus the predicted values can show whether or not there is a good fit. The residuals should be centered around zero across the whole range of predictions.\n",
    "\n",
    "That is, if you fit a LOWESS trendline, the line should stay close to zero."
   ]
  },
  {
   "cell_type": "code",
   "execution_count": null,
   "id": "cc3d9b64-c7f3-42ff-accd-f875eb3bf6a1",
   "metadata": {},
   "outputs": [],
   "source": [
    "px.scatter(responses, x=\"predicted\", y=\"residual\", trendline=\"lowess\")"
   ]
  },
  {
   "cell_type": "markdown",
   "id": "591ca972-9ac6-4c33-9c0e-00c70b7bb837",
   "metadata": {},
   "source": [
    "## Want to learn more?"
   ]
  },
  {
   "cell_type": "markdown",
   "id": "6f739f12-3850-45c9-81f6-04c11b6b08fd",
   "metadata": {},
   "source": [
    "[This scikit-learn tutorial](https://scikit-learn.org/stable/auto_examples/linear_model/plot_ols.html) covers linear regresion.\n",
    "\n",
    "These DataCamp courses cover linear regression in Python.\n",
    "\n",
    "- [Machine Learning with scikit-learn](https://app.datacamp.com/learn/courses/machine-learning-with-scikit-learn) provides an introduction to modeling with scikit-learn, including linear regression.\n",
    "- [Introduction to Regression with statsmodels in Python](https://app.datacamp.com/learn/courses/introduction-to-regression-with-statsmodels-in-python) and [Intermediate Regression with statsmodels in Python](https://app.datacamp.com/learn/courses/intermediate-regression-with-statsmodels-in-python) provide a deep dive into linear and logistic regression, using the statsmodels package."
   ]
  },
  {
   "cell_type": "code",
   "execution_count": null,
   "id": "790a67ef-0e1c-49d2-8144-b59041ec8631",
   "metadata": {},
   "outputs": [],
   "source": []
  }
 ],
 "metadata": {
  "kernelspec": {
   "display_name": "Python 3 (ipykernel)",
   "language": "python",
   "name": "python3"
  },
  "language_info": {
   "codemirror_mode": {
    "name": "ipython",
    "version": 3
   },
   "file_extension": ".py",
   "mimetype": "text/x-python",
   "name": "python",
   "nbconvert_exporter": "python",
   "pygments_lexer": "ipython3",
   "version": "3.8.10"
  }
 },
 "nbformat": 4,
 "nbformat_minor": 5
}
