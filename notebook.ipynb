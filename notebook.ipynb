{
 "cells": [
  {
   "cell_type": "markdown",
   "id": "d80a90aa-fd13-41c1-99fd-98b9ebe613b0",
   "metadata": {},
   "source": [
    "# Supervised Learning — How to do a linear regression in Python"
   ]
  },
  {
   "cell_type": "markdown",
   "id": "5ddded1e-ed92-4de4-8b42-f7cd1a76e436",
   "metadata": {},
   "source": [
    "## What is linear regression?"
   ]
  },
  {
   "cell_type": "markdown",
   "id": "ae75350a-2a69-4c59-a906-aaa3a232c606",
   "metadata": {},
   "source": [
    "TODO"
   ]
  },
  {
   "cell_type": "markdown",
   "id": "4c4a4d6c-879b-4cb0-a329-4254cc694b9d",
   "metadata": {},
   "source": [
    "## When can linear regression be used?"
   ]
  },
  {
   "cell_type": "markdown",
   "id": "76b16749-460b-4050-a59c-612527812045",
   "metadata": {},
   "source": [
    "When the response variable (the one being predicted) is numeric."
   ]
  },
  {
   "cell_type": "markdown",
   "id": "fa0ef3aa-33ea-43a3-a33c-b7f1d3e08bb6",
   "metadata": {},
   "source": [
    "## Which packages can be used for performing linear regression?"
   ]
  },
  {
   "cell_type": "markdown",
   "id": "4585bb51-0b64-4858-81ae-559ceb62c86c",
   "metadata": {},
   "source": [
    "- Scikit learn (used here)\n",
    "- statsmodels\n",
    "- PyCaret"
   ]
  },
  {
   "cell_type": "markdown",
   "id": "f4034e78-9040-4760-9563-03042dbfab18",
   "metadata": {},
   "source": [
    "## Case study: predicting brain weights"
   ]
  },
  {
   "cell_type": "markdown",
   "id": "ef69e7f2-8551-4f0e-b743-fb50761e866d",
   "metadata": {},
   "source": [
    "Here we'll explore a classic dataset (Gladstone 1905) to predict people's brain weights based on the volume of their head. ([Data source](https://users.stat.ufl.edu/~winner/data/brainhead.dat) and its [description](https://users.stat.ufl.edu/~winner/data/brainhead.txt).)"
   ]
  },
  {
   "cell_type": "markdown",
   "id": "672eed9e-8eb7-4e7a-aa18-fc055b0ed0df",
   "metadata": {},
   "source": [
    "We'll need **pandas** for importing the data, and doing some manipulation."
   ]
  },
  {
   "cell_type": "code",
   "execution_count": 1,
   "id": "e2bac5c4-17d1-4823-932c-a0924c8b4eff",
   "metadata": {},
   "outputs": [],
   "source": [
    "import pandas as pd\n",
    "from sklearn.model_selection import train_test_split\n",
    "from sklearn.linear_model import LinearRegression\n",
    "import plotly.express as px"
   ]
  },
  {
   "cell_type": "code",
   "execution_count": 3,
   "id": "11c34437-6ed5-431f-95b7-301804edf4c5",
   "metadata": {},
   "outputs": [
    {
     "data": {
      "application/com.datacamp.data-table.v1+json": {
       "is_truncated": false,
       "table": {
        "data": [
         {
          "age_range": "20-46",
          "brain_weight_g": 1530,
          "gender": "male",
          "head_size_cm3": 4512,
          "index": 0
         },
         {
          "age_range": "20-46",
          "brain_weight_g": 1297,
          "gender": "male",
          "head_size_cm3": 3738,
          "index": 1
         },
         {
          "age_range": "20-46",
          "brain_weight_g": 1335,
          "gender": "male",
          "head_size_cm3": 4261,
          "index": 2
         },
         {
          "age_range": "20-46",
          "brain_weight_g": 1282,
          "gender": "male",
          "head_size_cm3": 3777,
          "index": 3
         },
         {
          "age_range": "20-46",
          "brain_weight_g": 1590,
          "gender": "male",
          "head_size_cm3": 4177,
          "index": 4
         },
         {
          "age_range": "20-46",
          "brain_weight_g": 1300,
          "gender": "male",
          "head_size_cm3": 3585,
          "index": 5
         },
         {
          "age_range": "20-46",
          "brain_weight_g": 1400,
          "gender": "male",
          "head_size_cm3": 3785,
          "index": 6
         },
         {
          "age_range": "20-46",
          "brain_weight_g": 1255,
          "gender": "male",
          "head_size_cm3": 3559,
          "index": 7
         },
         {
          "age_range": "20-46",
          "brain_weight_g": 1355,
          "gender": "male",
          "head_size_cm3": 3613,
          "index": 8
         },
         {
          "age_range": "20-46",
          "brain_weight_g": 1375,
          "gender": "male",
          "head_size_cm3": 3982,
          "index": 9
         },
         {
          "age_range": "20-46",
          "brain_weight_g": 1340,
          "gender": "male",
          "head_size_cm3": 3443,
          "index": 10
         },
         {
          "age_range": "20-46",
          "brain_weight_g": 1380,
          "gender": "male",
          "head_size_cm3": 3993,
          "index": 11
         },
         {
          "age_range": "20-46",
          "brain_weight_g": 1355,
          "gender": "male",
          "head_size_cm3": 3640,
          "index": 12
         },
         {
          "age_range": "20-46",
          "brain_weight_g": 1522,
          "gender": "male",
          "head_size_cm3": 4208,
          "index": 13
         },
         {
          "age_range": "20-46",
          "brain_weight_g": 1208,
          "gender": "male",
          "head_size_cm3": 3832,
          "index": 14
         },
         {
          "age_range": "20-46",
          "brain_weight_g": 1405,
          "gender": "male",
          "head_size_cm3": 3876,
          "index": 15
         },
         {
          "age_range": "20-46",
          "brain_weight_g": 1358,
          "gender": "male",
          "head_size_cm3": 3497,
          "index": 16
         },
         {
          "age_range": "20-46",
          "brain_weight_g": 1292,
          "gender": "male",
          "head_size_cm3": 3466,
          "index": 17
         },
         {
          "age_range": "20-46",
          "brain_weight_g": 1340,
          "gender": "male",
          "head_size_cm3": 3095,
          "index": 18
         },
         {
          "age_range": "20-46",
          "brain_weight_g": 1400,
          "gender": "male",
          "head_size_cm3": 4424,
          "index": 19
         },
         {
          "age_range": "20-46",
          "brain_weight_g": 1357,
          "gender": "male",
          "head_size_cm3": 3878,
          "index": 20
         },
         {
          "age_range": "20-46",
          "brain_weight_g": 1287,
          "gender": "male",
          "head_size_cm3": 4046,
          "index": 21
         },
         {
          "age_range": "20-46",
          "brain_weight_g": 1275,
          "gender": "male",
          "head_size_cm3": 3804,
          "index": 22
         },
         {
          "age_range": "20-46",
          "brain_weight_g": 1270,
          "gender": "male",
          "head_size_cm3": 3710,
          "index": 23
         },
         {
          "age_range": "20-46",
          "brain_weight_g": 1635,
          "gender": "male",
          "head_size_cm3": 4747,
          "index": 24
         },
         {
          "age_range": "20-46",
          "brain_weight_g": 1505,
          "gender": "male",
          "head_size_cm3": 4423,
          "index": 25
         },
         {
          "age_range": "20-46",
          "brain_weight_g": 1490,
          "gender": "male",
          "head_size_cm3": 4036,
          "index": 26
         },
         {
          "age_range": "20-46",
          "brain_weight_g": 1485,
          "gender": "male",
          "head_size_cm3": 4022,
          "index": 27
         },
         {
          "age_range": "20-46",
          "brain_weight_g": 1310,
          "gender": "male",
          "head_size_cm3": 3454,
          "index": 28
         },
         {
          "age_range": "20-46",
          "brain_weight_g": 1420,
          "gender": "male",
          "head_size_cm3": 4175,
          "index": 29
         },
         {
          "age_range": "20-46",
          "brain_weight_g": 1318,
          "gender": "male",
          "head_size_cm3": 3787,
          "index": 30
         },
         {
          "age_range": "20-46",
          "brain_weight_g": 1432,
          "gender": "male",
          "head_size_cm3": 3796,
          "index": 31
         },
         {
          "age_range": "20-46",
          "brain_weight_g": 1364,
          "gender": "male",
          "head_size_cm3": 4103,
          "index": 32
         },
         {
          "age_range": "20-46",
          "brain_weight_g": 1405,
          "gender": "male",
          "head_size_cm3": 4161,
          "index": 33
         },
         {
          "age_range": "20-46",
          "brain_weight_g": 1432,
          "gender": "male",
          "head_size_cm3": 4158,
          "index": 34
         },
         {
          "age_range": "20-46",
          "brain_weight_g": 1207,
          "gender": "male",
          "head_size_cm3": 3814,
          "index": 35
         },
         {
          "age_range": "20-46",
          "brain_weight_g": 1375,
          "gender": "male",
          "head_size_cm3": 3527,
          "index": 36
         },
         {
          "age_range": "20-46",
          "brain_weight_g": 1350,
          "gender": "male",
          "head_size_cm3": 3748,
          "index": 37
         },
         {
          "age_range": "20-46",
          "brain_weight_g": 1236,
          "gender": "male",
          "head_size_cm3": 3334,
          "index": 38
         },
         {
          "age_range": "20-46",
          "brain_weight_g": 1250,
          "gender": "male",
          "head_size_cm3": 3492,
          "index": 39
         },
         {
          "age_range": "20-46",
          "brain_weight_g": 1350,
          "gender": "male",
          "head_size_cm3": 3962,
          "index": 40
         },
         {
          "age_range": "20-46",
          "brain_weight_g": 1320,
          "gender": "male",
          "head_size_cm3": 3505,
          "index": 41
         },
         {
          "age_range": "20-46",
          "brain_weight_g": 1525,
          "gender": "male",
          "head_size_cm3": 4315,
          "index": 42
         },
         {
          "age_range": "20-46",
          "brain_weight_g": 1570,
          "gender": "male",
          "head_size_cm3": 3804,
          "index": 43
         },
         {
          "age_range": "20-46",
          "brain_weight_g": 1340,
          "gender": "male",
          "head_size_cm3": 3863,
          "index": 44
         },
         {
          "age_range": "20-46",
          "brain_weight_g": 1422,
          "gender": "male",
          "head_size_cm3": 4034,
          "index": 45
         },
         {
          "age_range": "20-46",
          "brain_weight_g": 1506,
          "gender": "male",
          "head_size_cm3": 4308,
          "index": 46
         },
         {
          "age_range": "20-46",
          "brain_weight_g": 1215,
          "gender": "male",
          "head_size_cm3": 3165,
          "index": 47
         },
         {
          "age_range": "20-46",
          "brain_weight_g": 1311,
          "gender": "male",
          "head_size_cm3": 3641,
          "index": 48
         },
         {
          "age_range": "20-46",
          "brain_weight_g": 1300,
          "gender": "male",
          "head_size_cm3": 3644,
          "index": 49
         },
         {
          "age_range": "20-46",
          "brain_weight_g": 1224,
          "gender": "male",
          "head_size_cm3": 3891,
          "index": 50
         },
         {
          "age_range": "20-46",
          "brain_weight_g": 1350,
          "gender": "male",
          "head_size_cm3": 3793,
          "index": 51
         },
         {
          "age_range": "20-46",
          "brain_weight_g": 1335,
          "gender": "male",
          "head_size_cm3": 4270,
          "index": 52
         },
         {
          "age_range": "20-46",
          "brain_weight_g": 1390,
          "gender": "male",
          "head_size_cm3": 4063,
          "index": 53
         },
         {
          "age_range": "20-46",
          "brain_weight_g": 1400,
          "gender": "male",
          "head_size_cm3": 4012,
          "index": 54
         },
         {
          "age_range": "20-46",
          "brain_weight_g": 1225,
          "gender": "male",
          "head_size_cm3": 3458,
          "index": 55
         },
         {
          "age_range": "20-46",
          "brain_weight_g": 1310,
          "gender": "male",
          "head_size_cm3": 3890,
          "index": 56
         },
         {
          "age_range": "46+",
          "brain_weight_g": 1560,
          "gender": "male",
          "head_size_cm3": 4166,
          "index": 57
         },
         {
          "age_range": "46+",
          "brain_weight_g": 1330,
          "gender": "male",
          "head_size_cm3": 3935,
          "index": 58
         },
         {
          "age_range": "46+",
          "brain_weight_g": 1222,
          "gender": "male",
          "head_size_cm3": 3669,
          "index": 59
         },
         {
          "age_range": "46+",
          "brain_weight_g": 1415,
          "gender": "male",
          "head_size_cm3": 3866,
          "index": 60
         },
         {
          "age_range": "46+",
          "brain_weight_g": 1175,
          "gender": "male",
          "head_size_cm3": 3393,
          "index": 61
         },
         {
          "age_range": "46+",
          "brain_weight_g": 1330,
          "gender": "male",
          "head_size_cm3": 4442,
          "index": 62
         },
         {
          "age_range": "46+",
          "brain_weight_g": 1485,
          "gender": "male",
          "head_size_cm3": 4253,
          "index": 63
         },
         {
          "age_range": "46+",
          "brain_weight_g": 1470,
          "gender": "male",
          "head_size_cm3": 3727,
          "index": 64
         },
         {
          "age_range": "46+",
          "brain_weight_g": 1135,
          "gender": "male",
          "head_size_cm3": 3329,
          "index": 65
         },
         {
          "age_range": "46+",
          "brain_weight_g": 1310,
          "gender": "male",
          "head_size_cm3": 3415,
          "index": 66
         },
         {
          "age_range": "46+",
          "brain_weight_g": 1154,
          "gender": "male",
          "head_size_cm3": 3372,
          "index": 67
         },
         {
          "age_range": "46+",
          "brain_weight_g": 1510,
          "gender": "male",
          "head_size_cm3": 4430,
          "index": 68
         },
         {
          "age_range": "46+",
          "brain_weight_g": 1415,
          "gender": "male",
          "head_size_cm3": 4381,
          "index": 69
         },
         {
          "age_range": "46+",
          "brain_weight_g": 1468,
          "gender": "male",
          "head_size_cm3": 4008,
          "index": 70
         },
         {
          "age_range": "46+",
          "brain_weight_g": 1390,
          "gender": "male",
          "head_size_cm3": 3858,
          "index": 71
         },
         {
          "age_range": "46+",
          "brain_weight_g": 1380,
          "gender": "male",
          "head_size_cm3": 4121,
          "index": 72
         },
         {
          "age_range": "46+",
          "brain_weight_g": 1432,
          "gender": "male",
          "head_size_cm3": 4057,
          "index": 73
         },
         {
          "age_range": "46+",
          "brain_weight_g": 1240,
          "gender": "male",
          "head_size_cm3": 3824,
          "index": 74
         },
         {
          "age_range": "46+",
          "brain_weight_g": 1195,
          "gender": "male",
          "head_size_cm3": 3394,
          "index": 75
         },
         {
          "age_range": "46+",
          "brain_weight_g": 1225,
          "gender": "male",
          "head_size_cm3": 3558,
          "index": 76
         },
         {
          "age_range": "46+",
          "brain_weight_g": 1188,
          "gender": "male",
          "head_size_cm3": 3362,
          "index": 77
         },
         {
          "age_range": "46+",
          "brain_weight_g": 1252,
          "gender": "male",
          "head_size_cm3": 3930,
          "index": 78
         },
         {
          "age_range": "46+",
          "brain_weight_g": 1315,
          "gender": "male",
          "head_size_cm3": 3835,
          "index": 79
         },
         {
          "age_range": "46+",
          "brain_weight_g": 1245,
          "gender": "male",
          "head_size_cm3": 3830,
          "index": 80
         },
         {
          "age_range": "46+",
          "brain_weight_g": 1430,
          "gender": "male",
          "head_size_cm3": 3856,
          "index": 81
         },
         {
          "age_range": "46+",
          "brain_weight_g": 1279,
          "gender": "male",
          "head_size_cm3": 3249,
          "index": 82
         },
         {
          "age_range": "46+",
          "brain_weight_g": 1245,
          "gender": "male",
          "head_size_cm3": 3577,
          "index": 83
         },
         {
          "age_range": "46+",
          "brain_weight_g": 1309,
          "gender": "male",
          "head_size_cm3": 3933,
          "index": 84
         },
         {
          "age_range": "46+",
          "brain_weight_g": 1412,
          "gender": "male",
          "head_size_cm3": 3850,
          "index": 85
         },
         {
          "age_range": "46+",
          "brain_weight_g": 1120,
          "gender": "male",
          "head_size_cm3": 3309,
          "index": 86
         },
         {
          "age_range": "46+",
          "brain_weight_g": 1220,
          "gender": "male",
          "head_size_cm3": 3406,
          "index": 87
         },
         {
          "age_range": "46+",
          "brain_weight_g": 1280,
          "gender": "male",
          "head_size_cm3": 3506,
          "index": 88
         },
         {
          "age_range": "46+",
          "brain_weight_g": 1440,
          "gender": "male",
          "head_size_cm3": 3907,
          "index": 89
         },
         {
          "age_range": "46+",
          "brain_weight_g": 1370,
          "gender": "male",
          "head_size_cm3": 4160,
          "index": 90
         },
         {
          "age_range": "46+",
          "brain_weight_g": 1192,
          "gender": "male",
          "head_size_cm3": 3318,
          "index": 91
         },
         {
          "age_range": "46+",
          "brain_weight_g": 1230,
          "gender": "male",
          "head_size_cm3": 3662,
          "index": 92
         },
         {
          "age_range": "46+",
          "brain_weight_g": 1346,
          "gender": "male",
          "head_size_cm3": 3899,
          "index": 93
         },
         {
          "age_range": "46+",
          "brain_weight_g": 1290,
          "gender": "male",
          "head_size_cm3": 3700,
          "index": 94
         },
         {
          "age_range": "46+",
          "brain_weight_g": 1165,
          "gender": "male",
          "head_size_cm3": 3779,
          "index": 95
         },
         {
          "age_range": "46+",
          "brain_weight_g": 1240,
          "gender": "male",
          "head_size_cm3": 3473,
          "index": 96
         },
         {
          "age_range": "46+",
          "brain_weight_g": 1132,
          "gender": "male",
          "head_size_cm3": 3490,
          "index": 97
         },
         {
          "age_range": "46+",
          "brain_weight_g": 1242,
          "gender": "male",
          "head_size_cm3": 3654,
          "index": 98
         },
         {
          "age_range": "46+",
          "brain_weight_g": 1270,
          "gender": "male",
          "head_size_cm3": 3478,
          "index": 99
         },
         {
          "age_range": "46+",
          "brain_weight_g": 1218,
          "gender": "male",
          "head_size_cm3": 3495,
          "index": 100
         },
         {
          "age_range": "46+",
          "brain_weight_g": 1430,
          "gender": "male",
          "head_size_cm3": 3834,
          "index": 101
         },
         {
          "age_range": "46+",
          "brain_weight_g": 1588,
          "gender": "male",
          "head_size_cm3": 3876,
          "index": 102
         },
         {
          "age_range": "46+",
          "brain_weight_g": 1320,
          "gender": "male",
          "head_size_cm3": 3661,
          "index": 103
         },
         {
          "age_range": "46+",
          "brain_weight_g": 1290,
          "gender": "male",
          "head_size_cm3": 3618,
          "index": 104
         },
         {
          "age_range": "46+",
          "brain_weight_g": 1260,
          "gender": "male",
          "head_size_cm3": 3648,
          "index": 105
         },
         {
          "age_range": "46+",
          "brain_weight_g": 1425,
          "gender": "male",
          "head_size_cm3": 4032,
          "index": 106
         },
         {
          "age_range": "46+",
          "brain_weight_g": 1226,
          "gender": "male",
          "head_size_cm3": 3399,
          "index": 107
         },
         {
          "age_range": "46+",
          "brain_weight_g": 1360,
          "gender": "male",
          "head_size_cm3": 3916,
          "index": 108
         },
         {
          "age_range": "46+",
          "brain_weight_g": 1620,
          "gender": "male",
          "head_size_cm3": 4430,
          "index": 109
         },
         {
          "age_range": "46+",
          "brain_weight_g": 1310,
          "gender": "male",
          "head_size_cm3": 3695,
          "index": 110
         },
         {
          "age_range": "46+",
          "brain_weight_g": 1250,
          "gender": "male",
          "head_size_cm3": 3524,
          "index": 111
         },
         {
          "age_range": "46+",
          "brain_weight_g": 1295,
          "gender": "male",
          "head_size_cm3": 3571,
          "index": 112
         },
         {
          "age_range": "46+",
          "brain_weight_g": 1290,
          "gender": "male",
          "head_size_cm3": 3594,
          "index": 113
         },
         {
          "age_range": "46+",
          "brain_weight_g": 1290,
          "gender": "male",
          "head_size_cm3": 3383,
          "index": 114
         },
         {
          "age_range": "46+",
          "brain_weight_g": 1275,
          "gender": "male",
          "head_size_cm3": 3499,
          "index": 115
         },
         {
          "age_range": "46+",
          "brain_weight_g": 1250,
          "gender": "male",
          "head_size_cm3": 3589,
          "index": 116
         },
         {
          "age_range": "46+",
          "brain_weight_g": 1270,
          "gender": "male",
          "head_size_cm3": 3900,
          "index": 117
         },
         {
          "age_range": "46+",
          "brain_weight_g": 1362,
          "gender": "male",
          "head_size_cm3": 4114,
          "index": 118
         },
         {
          "age_range": "46+",
          "brain_weight_g": 1300,
          "gender": "male",
          "head_size_cm3": 3937,
          "index": 119
         },
         {
          "age_range": "46+",
          "brain_weight_g": 1173,
          "gender": "male",
          "head_size_cm3": 3399,
          "index": 120
         },
         {
          "age_range": "46+",
          "brain_weight_g": 1256,
          "gender": "male",
          "head_size_cm3": 4200,
          "index": 121
         },
         {
          "age_range": "46+",
          "brain_weight_g": 1440,
          "gender": "male",
          "head_size_cm3": 4488,
          "index": 122
         },
         {
          "age_range": "46+",
          "brain_weight_g": 1180,
          "gender": "male",
          "head_size_cm3": 3614,
          "index": 123
         },
         {
          "age_range": "46+",
          "brain_weight_g": 1306,
          "gender": "male",
          "head_size_cm3": 4051,
          "index": 124
         },
         {
          "age_range": "46+",
          "brain_weight_g": 1350,
          "gender": "male",
          "head_size_cm3": 3782,
          "index": 125
         },
         {
          "age_range": "46+",
          "brain_weight_g": 1125,
          "gender": "male",
          "head_size_cm3": 3391,
          "index": 126
         },
         {
          "age_range": "46+",
          "brain_weight_g": 1165,
          "gender": "male",
          "head_size_cm3": 3124,
          "index": 127
         },
         {
          "age_range": "46+",
          "brain_weight_g": 1312,
          "gender": "male",
          "head_size_cm3": 4053,
          "index": 128
         },
         {
          "age_range": "46+",
          "brain_weight_g": 1300,
          "gender": "male",
          "head_size_cm3": 3582,
          "index": 129
         },
         {
          "age_range": "46+",
          "brain_weight_g": 1270,
          "gender": "male",
          "head_size_cm3": 3666,
          "index": 130
         },
         {
          "age_range": "46+",
          "brain_weight_g": 1335,
          "gender": "male",
          "head_size_cm3": 3532,
          "index": 131
         },
         {
          "age_range": "46+",
          "brain_weight_g": 1450,
          "gender": "male",
          "head_size_cm3": 4046,
          "index": 132
         },
         {
          "age_range": "46+",
          "brain_weight_g": 1310,
          "gender": "male",
          "head_size_cm3": 3667,
          "index": 133
         },
         {
          "age_range": "20-46",
          "brain_weight_g": 1027,
          "gender": "female",
          "head_size_cm3": 2857,
          "index": 134
         },
         {
          "age_range": "20-46",
          "brain_weight_g": 1235,
          "gender": "female",
          "head_size_cm3": 3436,
          "index": 135
         },
         {
          "age_range": "20-46",
          "brain_weight_g": 1260,
          "gender": "female",
          "head_size_cm3": 3791,
          "index": 136
         },
         {
          "age_range": "20-46",
          "brain_weight_g": 1165,
          "gender": "female",
          "head_size_cm3": 3302,
          "index": 137
         },
         {
          "age_range": "20-46",
          "brain_weight_g": 1080,
          "gender": "female",
          "head_size_cm3": 3104,
          "index": 138
         },
         {
          "age_range": "20-46",
          "brain_weight_g": 1127,
          "gender": "female",
          "head_size_cm3": 3171,
          "index": 139
         },
         {
          "age_range": "20-46",
          "brain_weight_g": 1270,
          "gender": "female",
          "head_size_cm3": 3572,
          "index": 140
         },
         {
          "age_range": "20-46",
          "brain_weight_g": 1252,
          "gender": "female",
          "head_size_cm3": 3530,
          "index": 141
         },
         {
          "age_range": "20-46",
          "brain_weight_g": 1200,
          "gender": "female",
          "head_size_cm3": 3175,
          "index": 142
         },
         {
          "age_range": "20-46",
          "brain_weight_g": 1290,
          "gender": "female",
          "head_size_cm3": 3438,
          "index": 143
         },
         {
          "age_range": "20-46",
          "brain_weight_g": 1334,
          "gender": "female",
          "head_size_cm3": 3903,
          "index": 144
         },
         {
          "age_range": "20-46",
          "brain_weight_g": 1380,
          "gender": "female",
          "head_size_cm3": 3899,
          "index": 145
         },
         {
          "age_range": "20-46",
          "brain_weight_g": 1140,
          "gender": "female",
          "head_size_cm3": 3401,
          "index": 146
         },
         {
          "age_range": "20-46",
          "brain_weight_g": 1243,
          "gender": "female",
          "head_size_cm3": 3267,
          "index": 147
         },
         {
          "age_range": "20-46",
          "brain_weight_g": 1340,
          "gender": "female",
          "head_size_cm3": 3451,
          "index": 148
         },
         {
          "age_range": "20-46",
          "brain_weight_g": 1168,
          "gender": "female",
          "head_size_cm3": 3090,
          "index": 149
         },
         {
          "age_range": "20-46",
          "brain_weight_g": 1322,
          "gender": "female",
          "head_size_cm3": 3413,
          "index": 150
         },
         {
          "age_range": "20-46",
          "brain_weight_g": 1249,
          "gender": "female",
          "head_size_cm3": 3323,
          "index": 151
         },
         {
          "age_range": "20-46",
          "brain_weight_g": 1321,
          "gender": "female",
          "head_size_cm3": 3680,
          "index": 152
         },
         {
          "age_range": "20-46",
          "brain_weight_g": 1192,
          "gender": "female",
          "head_size_cm3": 3439,
          "index": 153
         },
         {
          "age_range": "20-46",
          "brain_weight_g": 1373,
          "gender": "female",
          "head_size_cm3": 3853,
          "index": 154
         },
         {
          "age_range": "20-46",
          "brain_weight_g": 1170,
          "gender": "female",
          "head_size_cm3": 3156,
          "index": 155
         },
         {
          "age_range": "20-46",
          "brain_weight_g": 1265,
          "gender": "female",
          "head_size_cm3": 3279,
          "index": 156
         },
         {
          "age_range": "20-46",
          "brain_weight_g": 1235,
          "gender": "female",
          "head_size_cm3": 3707,
          "index": 157
         },
         {
          "age_range": "20-46",
          "brain_weight_g": 1302,
          "gender": "female",
          "head_size_cm3": 4006,
          "index": 158
         },
         {
          "age_range": "20-46",
          "brain_weight_g": 1241,
          "gender": "female",
          "head_size_cm3": 3269,
          "index": 159
         },
         {
          "age_range": "20-46",
          "brain_weight_g": 1078,
          "gender": "female",
          "head_size_cm3": 3071,
          "index": 160
         },
         {
          "age_range": "20-46",
          "brain_weight_g": 1520,
          "gender": "female",
          "head_size_cm3": 3779,
          "index": 161
         },
         {
          "age_range": "20-46",
          "brain_weight_g": 1460,
          "gender": "female",
          "head_size_cm3": 3548,
          "index": 162
         },
         {
          "age_range": "20-46",
          "brain_weight_g": 1075,
          "gender": "female",
          "head_size_cm3": 3292,
          "index": 163
         },
         {
          "age_range": "20-46",
          "brain_weight_g": 1280,
          "gender": "female",
          "head_size_cm3": 3497,
          "index": 164
         },
         {
          "age_range": "20-46",
          "brain_weight_g": 1180,
          "gender": "female",
          "head_size_cm3": 3082,
          "index": 165
         },
         {
          "age_range": "20-46",
          "brain_weight_g": 1250,
          "gender": "female",
          "head_size_cm3": 3248,
          "index": 166
         },
         {
          "age_range": "20-46",
          "brain_weight_g": 1190,
          "gender": "female",
          "head_size_cm3": 3358,
          "index": 167
         },
         {
          "age_range": "20-46",
          "brain_weight_g": 1374,
          "gender": "female",
          "head_size_cm3": 3803,
          "index": 168
         },
         {
          "age_range": "20-46",
          "brain_weight_g": 1306,
          "gender": "female",
          "head_size_cm3": 3566,
          "index": 169
         },
         {
          "age_range": "20-46",
          "brain_weight_g": 1202,
          "gender": "female",
          "head_size_cm3": 3145,
          "index": 170
         },
         {
          "age_range": "20-46",
          "brain_weight_g": 1240,
          "gender": "female",
          "head_size_cm3": 3503,
          "index": 171
         },
         {
          "age_range": "20-46",
          "brain_weight_g": 1316,
          "gender": "female",
          "head_size_cm3": 3571,
          "index": 172
         },
         {
          "age_range": "20-46",
          "brain_weight_g": 1280,
          "gender": "female",
          "head_size_cm3": 3724,
          "index": 173
         },
         {
          "age_range": "20-46",
          "brain_weight_g": 1350,
          "gender": "female",
          "head_size_cm3": 3615,
          "index": 174
         },
         {
          "age_range": "20-46",
          "brain_weight_g": 1180,
          "gender": "female",
          "head_size_cm3": 3203,
          "index": 175
         },
         {
          "age_range": "20-46",
          "brain_weight_g": 1210,
          "gender": "female",
          "head_size_cm3": 3609,
          "index": 176
         },
         {
          "age_range": "20-46",
          "brain_weight_g": 1127,
          "gender": "female",
          "head_size_cm3": 3561,
          "index": 177
         },
         {
          "age_range": "20-46",
          "brain_weight_g": 1324,
          "gender": "female",
          "head_size_cm3": 3979,
          "index": 178
         },
         {
          "age_range": "20-46",
          "brain_weight_g": 1210,
          "gender": "female",
          "head_size_cm3": 3533,
          "index": 179
         },
         {
          "age_range": "20-46",
          "brain_weight_g": 1290,
          "gender": "female",
          "head_size_cm3": 3689,
          "index": 180
         },
         {
          "age_range": "20-46",
          "brain_weight_g": 1100,
          "gender": "female",
          "head_size_cm3": 3158,
          "index": 181
         },
         {
          "age_range": "20-46",
          "brain_weight_g": 1280,
          "gender": "female",
          "head_size_cm3": 4005,
          "index": 182
         },
         {
          "age_range": "20-46",
          "brain_weight_g": 1175,
          "gender": "female",
          "head_size_cm3": 3181,
          "index": 183
         },
         {
          "age_range": "20-46",
          "brain_weight_g": 1160,
          "gender": "female",
          "head_size_cm3": 3479,
          "index": 184
         },
         {
          "age_range": "20-46",
          "brain_weight_g": 1205,
          "gender": "female",
          "head_size_cm3": 3642,
          "index": 185
         },
         {
          "age_range": "20-46",
          "brain_weight_g": 1163,
          "gender": "female",
          "head_size_cm3": 3632,
          "index": 186
         },
         {
          "age_range": "46+",
          "brain_weight_g": 1022,
          "gender": "female",
          "head_size_cm3": 3069,
          "index": 187
         },
         {
          "age_range": "46+",
          "brain_weight_g": 1243,
          "gender": "female",
          "head_size_cm3": 3394,
          "index": 188
         },
         {
          "age_range": "46+",
          "brain_weight_g": 1350,
          "gender": "female",
          "head_size_cm3": 3703,
          "index": 189
         },
         {
          "age_range": "46+",
          "brain_weight_g": 1237,
          "gender": "female",
          "head_size_cm3": 3165,
          "index": 190
         },
         {
          "age_range": "46+",
          "brain_weight_g": 1204,
          "gender": "female",
          "head_size_cm3": 3354,
          "index": 191
         },
         {
          "age_range": "46+",
          "brain_weight_g": 1090,
          "gender": "female",
          "head_size_cm3": 3000,
          "index": 192
         },
         {
          "age_range": "46+",
          "brain_weight_g": 1355,
          "gender": "female",
          "head_size_cm3": 3687,
          "index": 193
         },
         {
          "age_range": "46+",
          "brain_weight_g": 1250,
          "gender": "female",
          "head_size_cm3": 3556,
          "index": 194
         },
         {
          "age_range": "46+",
          "brain_weight_g": 1076,
          "gender": "female",
          "head_size_cm3": 2773,
          "index": 195
         },
         {
          "age_range": "46+",
          "brain_weight_g": 1120,
          "gender": "female",
          "head_size_cm3": 3058,
          "index": 196
         },
         {
          "age_range": "46+",
          "brain_weight_g": 1220,
          "gender": "female",
          "head_size_cm3": 3344,
          "index": 197
         },
         {
          "age_range": "46+",
          "brain_weight_g": 1240,
          "gender": "female",
          "head_size_cm3": 3493,
          "index": 198
         },
         {
          "age_range": "46+",
          "brain_weight_g": 1220,
          "gender": "female",
          "head_size_cm3": 3297,
          "index": 199
         },
         {
          "age_range": "46+",
          "brain_weight_g": 1095,
          "gender": "female",
          "head_size_cm3": 3360,
          "index": 200
         },
         {
          "age_range": "46+",
          "brain_weight_g": 1235,
          "gender": "female",
          "head_size_cm3": 3228,
          "index": 201
         },
         {
          "age_range": "46+",
          "brain_weight_g": 1105,
          "gender": "female",
          "head_size_cm3": 3277,
          "index": 202
         },
         {
          "age_range": "46+",
          "brain_weight_g": 1405,
          "gender": "female",
          "head_size_cm3": 3851,
          "index": 203
         },
         {
          "age_range": "46+",
          "brain_weight_g": 1150,
          "gender": "female",
          "head_size_cm3": 3067,
          "index": 204
         },
         {
          "age_range": "46+",
          "brain_weight_g": 1305,
          "gender": "female",
          "head_size_cm3": 3692,
          "index": 205
         },
         {
          "age_range": "46+",
          "brain_weight_g": 1220,
          "gender": "female",
          "head_size_cm3": 3402,
          "index": 206
         },
         {
          "age_range": "46+",
          "brain_weight_g": 1296,
          "gender": "female",
          "head_size_cm3": 3995,
          "index": 207
         },
         {
          "age_range": "46+",
          "brain_weight_g": 1175,
          "gender": "female",
          "head_size_cm3": 3318,
          "index": 208
         },
         {
          "age_range": "46+",
          "brain_weight_g": 955,
          "gender": "female",
          "head_size_cm3": 2720,
          "index": 209
         },
         {
          "age_range": "46+",
          "brain_weight_g": 1070,
          "gender": "female",
          "head_size_cm3": 2937,
          "index": 210
         },
         {
          "age_range": "46+",
          "brain_weight_g": 1320,
          "gender": "female",
          "head_size_cm3": 3580,
          "index": 211
         },
         {
          "age_range": "46+",
          "brain_weight_g": 1060,
          "gender": "female",
          "head_size_cm3": 2939,
          "index": 212
         },
         {
          "age_range": "46+",
          "brain_weight_g": 1130,
          "gender": "female",
          "head_size_cm3": 2989,
          "index": 213
         },
         {
          "age_range": "46+",
          "brain_weight_g": 1250,
          "gender": "female",
          "head_size_cm3": 3586,
          "index": 214
         },
         {
          "age_range": "46+",
          "brain_weight_g": 1225,
          "gender": "female",
          "head_size_cm3": 3156,
          "index": 215
         },
         {
          "age_range": "46+",
          "brain_weight_g": 1180,
          "gender": "female",
          "head_size_cm3": 3246,
          "index": 216
         },
         {
          "age_range": "46+",
          "brain_weight_g": 1178,
          "gender": "female",
          "head_size_cm3": 3170,
          "index": 217
         },
         {
          "age_range": "46+",
          "brain_weight_g": 1142,
          "gender": "female",
          "head_size_cm3": 3268,
          "index": 218
         },
         {
          "age_range": "46+",
          "brain_weight_g": 1130,
          "gender": "female",
          "head_size_cm3": 3389,
          "index": 219
         },
         {
          "age_range": "46+",
          "brain_weight_g": 1185,
          "gender": "female",
          "head_size_cm3": 3381,
          "index": 220
         },
         {
          "age_range": "46+",
          "brain_weight_g": 1012,
          "gender": "female",
          "head_size_cm3": 2864,
          "index": 221
         },
         {
          "age_range": "46+",
          "brain_weight_g": 1280,
          "gender": "female",
          "head_size_cm3": 3740,
          "index": 222
         },
         {
          "age_range": "46+",
          "brain_weight_g": 1103,
          "gender": "female",
          "head_size_cm3": 3479,
          "index": 223
         },
         {
          "age_range": "46+",
          "brain_weight_g": 1408,
          "gender": "female",
          "head_size_cm3": 3647,
          "index": 224
         },
         {
          "age_range": "46+",
          "brain_weight_g": 1300,
          "gender": "female",
          "head_size_cm3": 3716,
          "index": 225
         },
         {
          "age_range": "46+",
          "brain_weight_g": 1246,
          "gender": "female",
          "head_size_cm3": 3284,
          "index": 226
         },
         {
          "age_range": "46+",
          "brain_weight_g": 1380,
          "gender": "female",
          "head_size_cm3": 4204,
          "index": 227
         },
         {
          "age_range": "46+",
          "brain_weight_g": 1350,
          "gender": "female",
          "head_size_cm3": 3735,
          "index": 228
         },
         {
          "age_range": "46+",
          "brain_weight_g": 1060,
          "gender": "female",
          "head_size_cm3": 3218,
          "index": 229
         },
         {
          "age_range": "46+",
          "brain_weight_g": 1350,
          "gender": "female",
          "head_size_cm3": 3685,
          "index": 230
         },
         {
          "age_range": "46+",
          "brain_weight_g": 1220,
          "gender": "female",
          "head_size_cm3": 3704,
          "index": 231
         },
         {
          "age_range": "46+",
          "brain_weight_g": 1110,
          "gender": "female",
          "head_size_cm3": 3214,
          "index": 232
         },
         {
          "age_range": "46+",
          "brain_weight_g": 1215,
          "gender": "female",
          "head_size_cm3": 3394,
          "index": 233
         },
         {
          "age_range": "46+",
          "brain_weight_g": 1104,
          "gender": "female",
          "head_size_cm3": 3233,
          "index": 234
         },
         {
          "age_range": "46+",
          "brain_weight_g": 1170,
          "gender": "female",
          "head_size_cm3": 3352,
          "index": 235
         },
         {
          "age_range": "46+",
          "brain_weight_g": 1120,
          "gender": "female",
          "head_size_cm3": 3391,
          "index": 236
         }
        ],
        "schema": {
         "fields": [
          {
           "name": "index",
           "type": "integer"
          },
          {
           "name": "gender",
           "type": "string"
          },
          {
           "name": "age_range",
           "type": "string"
          },
          {
           "name": "head_size_cm3",
           "type": "integer"
          },
          {
           "name": "brain_weight_g",
           "type": "integer"
          }
         ],
         "pandas_version": "0.20.0",
         "primaryKey": [
          "index"
         ]
        }
       },
       "total_rows": 237
      },
      "text/html": [
       "<div>\n",
       "<style scoped>\n",
       "    .dataframe tbody tr th:only-of-type {\n",
       "        vertical-align: middle;\n",
       "    }\n",
       "\n",
       "    .dataframe tbody tr th {\n",
       "        vertical-align: top;\n",
       "    }\n",
       "\n",
       "    .dataframe thead th {\n",
       "        text-align: right;\n",
       "    }\n",
       "</style>\n",
       "<table border=\"1\" class=\"dataframe\">\n",
       "  <thead>\n",
       "    <tr style=\"text-align: right;\">\n",
       "      <th></th>\n",
       "      <th>gender</th>\n",
       "      <th>age_range</th>\n",
       "      <th>head_size_cm3</th>\n",
       "      <th>brain_weight_g</th>\n",
       "    </tr>\n",
       "  </thead>\n",
       "  <tbody>\n",
       "    <tr>\n",
       "      <th>0</th>\n",
       "      <td>male</td>\n",
       "      <td>20-46</td>\n",
       "      <td>4512</td>\n",
       "      <td>1530</td>\n",
       "    </tr>\n",
       "    <tr>\n",
       "      <th>1</th>\n",
       "      <td>male</td>\n",
       "      <td>20-46</td>\n",
       "      <td>3738</td>\n",
       "      <td>1297</td>\n",
       "    </tr>\n",
       "    <tr>\n",
       "      <th>2</th>\n",
       "      <td>male</td>\n",
       "      <td>20-46</td>\n",
       "      <td>4261</td>\n",
       "      <td>1335</td>\n",
       "    </tr>\n",
       "    <tr>\n",
       "      <th>3</th>\n",
       "      <td>male</td>\n",
       "      <td>20-46</td>\n",
       "      <td>3777</td>\n",
       "      <td>1282</td>\n",
       "    </tr>\n",
       "    <tr>\n",
       "      <th>4</th>\n",
       "      <td>male</td>\n",
       "      <td>20-46</td>\n",
       "      <td>4177</td>\n",
       "      <td>1590</td>\n",
       "    </tr>\n",
       "    <tr>\n",
       "      <th>...</th>\n",
       "      <td>...</td>\n",
       "      <td>...</td>\n",
       "      <td>...</td>\n",
       "      <td>...</td>\n",
       "    </tr>\n",
       "    <tr>\n",
       "      <th>232</th>\n",
       "      <td>female</td>\n",
       "      <td>46+</td>\n",
       "      <td>3214</td>\n",
       "      <td>1110</td>\n",
       "    </tr>\n",
       "    <tr>\n",
       "      <th>233</th>\n",
       "      <td>female</td>\n",
       "      <td>46+</td>\n",
       "      <td>3394</td>\n",
       "      <td>1215</td>\n",
       "    </tr>\n",
       "    <tr>\n",
       "      <th>234</th>\n",
       "      <td>female</td>\n",
       "      <td>46+</td>\n",
       "      <td>3233</td>\n",
       "      <td>1104</td>\n",
       "    </tr>\n",
       "    <tr>\n",
       "      <th>235</th>\n",
       "      <td>female</td>\n",
       "      <td>46+</td>\n",
       "      <td>3352</td>\n",
       "      <td>1170</td>\n",
       "    </tr>\n",
       "    <tr>\n",
       "      <th>236</th>\n",
       "      <td>female</td>\n",
       "      <td>46+</td>\n",
       "      <td>3391</td>\n",
       "      <td>1120</td>\n",
       "    </tr>\n",
       "  </tbody>\n",
       "</table>\n",
       "<p>237 rows × 4 columns</p>\n",
       "</div>"
      ],
      "text/plain": [
       "     gender age_range  head_size_cm3  brain_weight_g\n",
       "0      male     20-46           4512            1530\n",
       "1      male     20-46           3738            1297\n",
       "2      male     20-46           4261            1335\n",
       "3      male     20-46           3777            1282\n",
       "4      male     20-46           4177            1590\n",
       "..      ...       ...            ...             ...\n",
       "232  female       46+           3214            1110\n",
       "233  female       46+           3394            1215\n",
       "234  female       46+           3233            1104\n",
       "235  female       46+           3352            1170\n",
       "236  female       46+           3391            1120\n",
       "\n",
       "[237 rows x 4 columns]"
      ]
     },
     "execution_count": 3,
     "metadata": {},
     "output_type": "execute_result"
    }
   ],
   "source": [
    "brainhead = pd.read_csv(\"brainhead.csv\")\n",
    "brainhead"
   ]
  },
  {
   "cell_type": "markdown",
   "id": "8fddc032-a578-4875-92a0-c31e32ef7c6c",
   "metadata": {},
   "source": [
    "## Data dictionary"
   ]
  },
  {
   "cell_type": "markdown",
   "id": "cb1e6718-1165-4414-8e95-19c50a4e1ba1",
   "metadata": {},
   "source": [
    "Each row in the dataset corresponds to one adult human.\n",
    "\n",
    "- **gender**: Gender of the person. Either **male** or **female**.\n",
    "- **age_range**: Age range of the person. Either **20-46** or **46+**.\n",
    "- **head_size_cm3**: Volume of the person's head, in cm^3.\n",
    "- **brain_weight_g**: Mass of the person's brain, in grams."
   ]
  },
  {
   "cell_type": "markdown",
   "id": "d984a23c-c5f9-4c34-ab24-f84449efe607",
   "metadata": {},
   "source": [
    "## Converting categorical columns to dummy variables"
   ]
  },
  {
   "cell_type": "markdown",
   "id": "4f6ef273-87b6-45ad-afc7-0dd08950ce4a",
   "metadata": {},
   "source": [
    "Scikit-learn can't deal with categorical columns directly. They must be converted to dummy columns of ones and zeroes. The pandas function [`get_dummies()`](https://pandas.pydata.org/pandas-docs/stable/reference/api/pandas.get_dummies.html) can be used for this."
   ]
  },
  {
   "cell_type": "code",
   "execution_count": null,
   "id": "1f2092b9-218e-443b-9d10-740be62ad4f6",
   "metadata": {},
   "outputs": [],
   "source": [
    "brainhead_dum = pd.get_dummies(brainhead)\n",
    "brainhead_dum"
   ]
  },
  {
   "cell_type": "markdown",
   "id": "1bd635fb-db01-442d-8c9c-a60f330556db",
   "metadata": {},
   "source": [
    "## Splitting into response and explanatory columns"
   ]
  },
  {
   "cell_type": "markdown",
   "id": "47964dab-bb85-48e0-8f2e-b1b5a45ddf61",
   "metadata": {},
   "source": [
    "The dataset needs to be split into the response variable, and the explanatory variables (all other columns)."
   ]
  },
  {
   "cell_type": "code",
   "execution_count": null,
   "id": "20222f14-0757-4fc0-a10e-402ee69dd22c",
   "metadata": {},
   "outputs": [],
   "source": [
    "response = brainhead_dum[\"brain_weight_g\"]\n",
    "explanatory = brainhead_dum.drop(columns=\"brain_weight_g\")"
   ]
  },
  {
   "cell_type": "markdown",
   "id": "9d21a8de-1bcf-4a9a-89ab-16354d4b6788",
   "metadata": {},
   "source": [
    "## Splitting into training and testing sets"
   ]
  },
  {
   "cell_type": "markdown",
   "id": "d1f644c1-c4d5-43ea-ab7e-dbbd2c70d0bb",
   "metadata": {},
   "source": [
    "TODO"
   ]
  },
  {
   "cell_type": "code",
   "execution_count": null,
   "id": "299d0313-50ec-41bd-9847-41a13f9868ed",
   "metadata": {},
   "outputs": [],
   "source": [
    "explanatory_train, explanatory_test, response_train, response_test = train_test_split(explanatory, response)"
   ]
  },
  {
   "cell_type": "markdown",
   "id": "d910f4f9-8fe1-45f6-91b4-70562e5ebcfc",
   "metadata": {},
   "source": [
    "## Fitting the model to the training set"
   ]
  },
  {
   "cell_type": "markdown",
   "id": "3640130c-6310-4e61-bd77-b69bc8908243",
   "metadata": {},
   "source": [
    "TODO"
   ]
  },
  {
   "cell_type": "code",
   "execution_count": null,
   "id": "2beab28d-7798-4e14-851f-135f6915aaa5",
   "metadata": {},
   "outputs": [],
   "source": [
    "mdl = LinearRegression()"
   ]
  },
  {
   "cell_type": "code",
   "execution_count": null,
   "id": "b7bdd7ff-684d-420a-9314-0779b7a849f4",
   "metadata": {},
   "outputs": [],
   "source": [
    "mdl.fit(explanatory_train, response_train)"
   ]
  },
  {
   "cell_type": "markdown",
   "id": "97683b2b-b943-422c-b1ef-f9394b381da4",
   "metadata": {},
   "source": [
    "## Making predictions on the testing set"
   ]
  },
  {
   "cell_type": "markdown",
   "id": "fdd858b7-820f-4854-a69e-ffa0f824eac0",
   "metadata": {},
   "source": [
    "TODO"
   ]
  },
  {
   "cell_type": "code",
   "execution_count": null,
   "id": "e7ce7e4b-f777-4a51-b312-20cab06b5077",
   "metadata": {},
   "outputs": [],
   "source": [
    "response_predicted = mdl.predict(explanatory_test)"
   ]
  },
  {
   "cell_type": "code",
   "execution_count": null,
   "id": "abcc5f83-7a90-450f-b7f0-0aa794bba8c0",
   "metadata": {},
   "outputs": [],
   "source": [
    "responses = pd.DataFrame({\n",
    "    \"actual\": response_test,\n",
    "    \"predicted\": mdl.predict(explanatory_test)\n",
    "})"
   ]
  },
  {
   "cell_type": "code",
   "execution_count": null,
   "id": "cae8e59c-90f4-451c-93ed-24cb9968aa98",
   "metadata": {},
   "outputs": [],
   "source": [
    "fig = px.scatter(responses, x=\"actual\", y=\"predicted\", width=800, height=800)\n",
    "fig.update_yaxes(\n",
    "    scaleanchor = \"x\",\n",
    "    scaleratio = 1,\n",
    ")\n",
    "fig"
   ]
  },
  {
   "cell_type": "markdown",
   "id": "24a7f01c-af4d-417d-a166-ef4aa34ecdbd",
   "metadata": {},
   "source": [
    "## Understanding the model fit"
   ]
  },
  {
   "cell_type": "markdown",
   "id": "204b41f2-912c-491c-bb44-c8ef521d72fc",
   "metadata": {},
   "source": [
    "TODO"
   ]
  },
  {
   "cell_type": "code",
   "execution_count": null,
   "id": "809db578-bdfc-40ef-97a5-3842db6fb684",
   "metadata": {},
   "outputs": [],
   "source": [
    "mdl.intercept_"
   ]
  },
  {
   "cell_type": "code",
   "execution_count": null,
   "id": "1b1558ed-8bfa-4fe1-97b5-a3ac0f4e9a96",
   "metadata": {},
   "outputs": [],
   "source": [
    "mdl.coef_"
   ]
  },
  {
   "cell_type": "code",
   "execution_count": null,
   "id": "19c79eb6-a1fb-4c27-a8d2-0e6144fece95",
   "metadata": {},
   "outputs": [],
   "source": [
    "mdl.feature_names_in_"
   ]
  },
  {
   "cell_type": "code",
   "execution_count": null,
   "id": "82c137f1-d645-4343-b499-68ed467e9991",
   "metadata": {},
   "outputs": [],
   "source": []
  }
 ],
 "metadata": {
  "kernelspec": {
   "display_name": "Python 3 (ipykernel)",
   "language": "python",
   "name": "python3"
  },
  "language_info": {
   "codemirror_mode": {
    "name": "ipython",
    "version": 3
   },
   "file_extension": ".py",
   "mimetype": "text/x-python",
   "name": "python",
   "nbconvert_exporter": "python",
   "pygments_lexer": "ipython3",
   "version": "3.8.10"
  }
 },
 "nbformat": 4,
 "nbformat_minor": 5
}
